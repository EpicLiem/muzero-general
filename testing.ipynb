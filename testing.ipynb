{
 "cells": [
  {
   "cell_type": "code",
   "execution_count": 55,
   "metadata": {
    "collapsed": true
   },
   "outputs": [],
   "source": [
    "import chess\n",
    "import chess.engine\n",
    "import torch\n",
    "import numpy as np\n",
    "\n",
    "engine = chess.engine.SimpleEngine.popen_uci(r\"/usr/games/stockfish\")"
   ]
  },
  {
   "cell_type": "code",
   "execution_count": 45,
   "outputs": [],
   "source": [
    "board = chess.Board('2r3k1/pbr1q2p/1p2p1p1/3p1P2/3Pn3/1P1BR3/PB1Q2PP/5RK1 w - - 1 24')\n"
   ],
   "metadata": {
    "collapsed": false
   }
  },
  {
   "cell_type": "code",
   "execution_count": 46,
   "outputs": [
    {
     "data": {
      "text/plain": "{'string': 'NNUE evaluation using nn-13406b1dcbe0.nnue enabled',\n 'depth': 10,\n 'seldepth': 16,\n 'multipv': 1,\n 'score': PovScore(Cp(+165), WHITE),\n 'nodes': 10686,\n 'nps': 1187333,\n 'tbhits': 0,\n 'time': 0.009,\n 'pv': [Move.from_uci('d3e4'),\n  Move.from_uci('d5e4'),\n  Move.from_uci('d4d5'),\n  Move.from_uci('c7c2'),\n  Move.from_uci('d2d4'),\n  Move.from_uci('c2b2'),\n  Move.from_uci('d4b2'),\n  Move.from_uci('e6f5'),\n  Move.from_uci('e3c3'),\n  Move.from_uci('c8c3')]}"
     },
     "execution_count": 46,
     "metadata": {},
     "output_type": "execute_result"
    }
   ],
   "source": [
    "analysis = engine.analyse(board, chess.engine.Limit(depth=10))\n",
    "\n",
    "analysis"
   ],
   "metadata": {
    "collapsed": false
   }
  },
  {
   "cell_type": "code",
   "execution_count": 47,
   "outputs": [
    {
     "data": {
      "text/plain": "PovScore(Cp(+165), WHITE)"
     },
     "execution_count": 47,
     "metadata": {},
     "output_type": "execute_result"
    }
   ],
   "source": [
    "score = analysis[\"score\"]\n",
    "score"
   ],
   "metadata": {
    "collapsed": false
   }
  },
  {
   "cell_type": "code",
   "execution_count": 60,
   "outputs": [
    {
     "name": "stdout",
     "output_type": "stream",
     "text": [
      "16.777821008468294\n"
     ]
    }
   ],
   "source": [
    "def sig(x):\n",
    " return 1/(1 + np.exp(-x/100))\n",
    "\n",
    "if score.relative.mate():\n",
    "    print(score.relative.mate())\n",
    "elif score.relative:\n",
    "    print(sig(score.relative.score())*20)"
   ],
   "metadata": {
    "collapsed": false
   }
  },
  {
   "cell_type": "code",
   "execution_count": null,
   "outputs": [],
   "source": [],
   "metadata": {
    "collapsed": false
   }
  }
 ],
 "metadata": {
  "kernelspec": {
   "display_name": "Python 3",
   "language": "python",
   "name": "python3"
  },
  "language_info": {
   "codemirror_mode": {
    "name": "ipython",
    "version": 2
   },
   "file_extension": ".py",
   "mimetype": "text/x-python",
   "name": "python",
   "nbconvert_exporter": "python",
   "pygments_lexer": "ipython2",
   "version": "2.7.6"
  }
 },
 "nbformat": 4,
 "nbformat_minor": 0
}
